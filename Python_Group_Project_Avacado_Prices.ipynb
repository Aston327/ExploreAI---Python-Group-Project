# Import necessary libraries
import numpy as np
import pandas as pd
import matplotlib.pyplot as plt
import seaborn as sns
import plotly.express as px

sns.set_style('darkgrid')
plt.style.use('ggplot')
pip install plotly
# Load the dataset
url = "Avocado_HassAvocadoBoard_20152023v1.0.1.csv"
avocado_data = pd.read_csv(url)
# Display the first few rows of the dataset
avocado_data.head()
avocado_data.info()
avocado_data.isnull().sum()
# Check for and count duplicated rows
duplicate_count = avocado_data.duplicated().sum()
print(f"Number of duplicated rows: {duplicate_count}")
