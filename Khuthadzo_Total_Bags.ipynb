{
 "cells": [
  {
   "cell_type": "code",
   "execution_count": null,
   "id": "505ea1b3-2184-4485-8fc6-0c377f97f41f",
   "metadata": {},
   "outputs": [],
   "source": []
  }
 ],
 "metadata": {
  "kernelspec": {
   "display_name": "",
   "name": ""
  },
  "language_info": {
   "name": ""
  }
 },
 "nbformat": 4,
 "nbformat_minor": 5
}
